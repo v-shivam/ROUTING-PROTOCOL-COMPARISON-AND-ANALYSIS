{
 "cells": [
  {
   "cell_type": "code",
   "execution_count": 1,
   "metadata": {},
   "outputs": [],
   "source": [
    "import networkx as nx\n",
    "import matplotlib.pyplot as plt\n",
    "import time\n",
    "import random\n",
    "import heapq\n",
    "import numpy as np\n"
   ]
  },
  {
   "cell_type": "markdown",
   "metadata": {},
   "source": [
    "# Define the network topology"
   ]
  },
  {
   "cell_type": "code",
   "execution_count": 2,
   "metadata": {},
   "outputs": [],
   "source": [
    "# Define the network topology\n",
    "G = nx.Graph()\n",
    "G.add_nodes_from(['A', 'B', 'C', 'D', 'E', 'F', 'G'])\n",
    "G.add_edges_from([('A', 'B', {'weight': 5}), ('A', 'C', {'weight': 1}), ('B', 'D', {'weight': 2}),\n",
    "                  ('B', 'E', {'weight': 3}), ('C', 'E', {'weight': 4}), ('C', 'F', {'weight': 6}),\n",
    "                  ('D', 'E', {'weight': 1}), ('E', 'F', {'weight': 2}), ('E', 'G', {'weight': 7}),\n",
    "                  ('F', 'G', {'weight': 1})])\n"
   ]
  },
  {
   "cell_type": "markdown",
   "metadata": {},
   "source": [
    "# Implement RIP"
   ]
  },
  {
   "cell_type": "code",
   "execution_count": 3,
   "metadata": {},
   "outputs": [],
   "source": [
    "\n",
    "def rip(G, source, target):\n",
    "    distances = {node: float('inf') for node in G.nodes()}\n",
    "    distances[source] = 0\n",
    "    predecessors = {node: None for node in G.nodes()}\n",
    "\n",
    "    while True:\n",
    "        updated = False\n",
    "        for u, v, data in G.edges(data=True):\n",
    "            if distances[u] + data['weight'] < distances[v]:\n",
    "                distances[v] = distances[u] + data['weight']\n",
    "                predecessors[v] = u\n",
    "                updated = True\n",
    "        if not updated:\n",
    "            break\n",
    "\n",
    "    path = []\n",
    "    node = target\n",
    "    while node is not None:\n",
    "        path.append(node)\n",
    "        node = predecessors[node]\n",
    "    path.reverse()\n",
    "    return path\n"
   ]
  },
  {
   "cell_type": "markdown",
   "metadata": {},
   "source": [
    "# Implement OSPF"
   ]
  },
  {
   "cell_type": "code",
   "execution_count": 4,
   "metadata": {},
   "outputs": [],
   "source": [
    "\n",
    "def ospf(G, source, target):\n",
    "    distances = {node: float('inf') for node in G.nodes()}\n",
    "    distances[source] = 0\n",
    "    predecessors = {node: None for node in G.nodes()}\n",
    "    pq = [(0, source)]\n",
    "\n",
    "    while pq:\n",
    "        d, u = heapq.heappop(pq)\n",
    "        if d > distances[u]:\n",
    "            continue\n",
    "        for v, data in G[u].items():\n",
    "            dist = distances[u] + data['weight']\n",
    "            if dist < distances[v]:\n",
    "                distances[v] = dist\n",
    "                predecessors[v] = u\n",
    "                heapq.heappush(pq, (dist, v))\n",
    "\n",
    "    path = []\n",
    "    node = target\n",
    "    while node is not None:\n",
    "        path.append(node)\n",
    "        node = predecessors[node]\n",
    "    path.reverse()\n",
    "    return path\n"
   ]
  },
  {
   "cell_type": "markdown",
   "metadata": {},
   "source": [
    "# Test bench for convergence time"
   ]
  },
  {
   "cell_type": "code",
   "execution_count": 19,
   "metadata": {},
   "outputs": [],
   "source": [
    "protocols = ['RIP', 'OSPF']\n",
    "times = {protocol: [] for protocol in protocols}\n",
    "\n",
    "def test_convergence_time():\n",
    "    print(\"Testing convergence time...\")\n",
    "    for _ in range(10):  # Run the routing protocol 10 times\n",
    "        source, target = random.sample(list(G.nodes()), 2)\n",
    "        start_time = time.time()\n",
    "        rip_path = rip(G, source, target)\n",
    "        rip_time = time.time() - start_time\n",
    "        start_time = time.time()\n",
    "        ospf_path = ospf(G, source, target)\n",
    "        ospf_time = time.time() - start_time\n",
    "        start_time = time.time()\n",
    "        times['RIP'].append(rip_time)\n",
    "        times['OSPF'].append(ospf_time)\n",
    "\n",
    "    # Calculate average times\n",
    "    avg_times = {protocol: np.mean(times[protocol]) for protocol in protocols}\n",
    "\n",
    "    # Print average times\n",
    "    for protocol in protocols:\n",
    "        print(f\"Average {protocol} convergence time: {avg_times[protocol]:.6f} seconds\")\n",
    "\n",
    "    # Plotting\n",
    "    x = np.arange(len(protocols))  # the label locations\n",
    "    width = 0.35  # the width of the bars\n",
    "\n",
    "    fig, ax = plt.subplots()\n",
    "    rects1 = ax.bar(x - width/2, [avg_times[protocol] for protocol in protocols], width, label='Mean Time')\n",
    "\n",
    "    # Add some text for labels, title and custom x-axis tick labels, etc.\n",
    "    ax.set_ylabel('Time Taken (s)')\n",
    "    ax.set_title('Convergence Time Analysis')\n",
    "    ax.set_xticks(x)\n",
    "    ax.set_xticklabels(protocols)\n",
    "    ax.legend()\n",
    "\n",
    "    fig.tight_layout()\n",
    "\n",
    "    plt.show()"
   ]
  },
  {
   "cell_type": "code",
   "execution_count": 20,
   "metadata": {},
   "outputs": [
    {
     "name": "stdout",
     "output_type": "stream",
     "text": [
      "Testing convergence time...\n",
      "Average RIP convergence time: 0.000008 seconds\n",
      "Average OSPF convergence time: 0.000006 seconds\n"
     ]
    },
    {
     "data": {
      "image/png": "[encoded data removed]",
      "text/plain": [
       "<Figure size 432x288 with 1 Axes>"
      ]
     },
     "metadata": {
      "needs_background": "light"
     },
     "output_type": "display_data"
    }
   ],
   "source": [
    "test_convergence_time()"
   ]
  },
  {
   "cell_type": "markdown",
   "metadata": {},
   "source": [
    "# Test bench for scalability"
   ]
  },
  {
   "cell_type": "code",
   "execution_count": 7,
   "metadata": {},
   "outputs": [],
   "source": [
    "# Initialize lists to store data for plotting\n",
    "protocols = ['RIP', 'OSPF']\n",
    "nodes = [10, 50, 100, 500, 1000, 2000, 4000, 6000, 8000, 10000]\n",
    "times = {protocol: [] for protocol in protocols}\n",
    "\n",
    "def test_scalability():\n",
    "    print(\"Testing scalability...\")\n",
    "    for n in nodes:  # Use the 'nodes' list here\n",
    "        G = nx.erdos_renyi_graph(n, 0.1)\n",
    "        while not nx.is_connected(G):\n",
    "            G = nx.erdos_renyi_graph(n, 0.1)\n",
    "        # Add 'weight' attribute to the edges\n",
    "        for u, v, d in G.edges(data=True):\n",
    "            d['weight'] = random.randint(1, 10)\n",
    "        source, target = random.sample(list(G.nodes()), 2)\n",
    "        start_time = time.time()\n",
    "        rip_path = rip(G, source, target)\n",
    "        rip_time = time.time() - start_time\n",
    "        times['RIP'].append(rip_time)\n",
    "        start_time = time.time()\n",
    "        ospf_path = ospf(G, source, target)\n",
    "        ospf_time = time.time() - start_time\n",
    "        times['OSPF'].append(ospf_time)\n",
    "        start_time = time.time()\n",
    "        print(f\"For a network of {n} nodes:\")\n",
    "        print(f\"RIP convergence time: {rip_time:.6f} seconds\")\n",
    "        print(f\"OSPF convergence time: {ospf_time:.6f} seconds\")\n",
    "\n",
    "    # Plotting should be outside the loop\n",
    "    plt.figure(figsize=(10, 6))\n",
    "    line_styles = ['-', '--']\n",
    "    for i, protocol in enumerate(protocols):\n",
    "        plt.plot(nodes, times[protocol], line_styles[i], label=protocol)\n",
    "\n",
    "    plt.xlabel('Number of Nodes')\n",
    "    plt.ylabel('Time Taken (s)')\n",
    "    plt.title('Scalability Testing')\n",
    "    plt.legend()\n",
    "    plt.grid(True, which=\"both\", ls=\"--\", linewidth=0.5)\n",
    "    plt.xscale('log')\n",
    "\n",
    "    plt.show()"
   ]
  },
  {
   "cell_type": "code",
   "execution_count": 8,
   "metadata": {},
   "outputs": [
    {
     "name": "stdout",
     "output_type": "stream",
     "text": [
      "Testing scalability...\n",
      "For a network of 10 nodes:\n",
      "RIP convergence time: 0.000011 seconds\n",
      "OSPF convergence time: 0.000025 seconds\n",
      "For a network of 50 nodes:\n",
      "RIP convergence time: 0.000071 seconds\n",
      "OSPF convergence time: 0.000096 seconds\n",
      "For a network of 100 nodes:\n",
      "RIP convergence time: 0.000227 seconds\n",
      "OSPF convergence time: 0.000290 seconds\n",
      "For a network of 500 nodes:\n",
      "RIP convergence time: 0.005391 seconds\n",
      "OSPF convergence time: 0.005615 seconds\n",
      "For a network of 1000 nodes:\n",
      "RIP convergence time: 0.021621 seconds\n",
      "OSPF convergence time: 0.019522 seconds\n",
      "For a network of 2000 nodes:\n",
      "RIP convergence time: 0.083876 seconds\n",
      "OSPF convergence time: 0.078499 seconds\n",
      "For a network of 4000 nodes:\n",
      "RIP convergence time: 0.333753 seconds\n",
      "OSPF convergence time: 0.318298 seconds\n",
      "For a network of 6000 nodes:\n",
      "RIP convergence time: 0.792399 seconds\n",
      "OSPF convergence time: 0.774510 seconds\n",
      "For a network of 8000 nodes:\n",
      "RIP convergence time: 1.479752 seconds\n",
      "OSPF convergence time: 1.330436 seconds\n",
      "For a network of 10000 nodes:\n",
      "RIP convergence time: 3.199526 seconds\n",
      "OSPF convergence time: 3.055354 seconds\n"
     ]
    },
    {
     "data": {
      "image/png": "[encoded data removed]",
      "text/plain": [
       "<Figure size 720x432 with 1 Axes>"
      ]
     },
     "metadata": {
      "needs_background": "light"
     },
     "output_type": "display_data"
    }
   ],
   "source": [
    "test_scalability()"
   ]
  },
  {
   "cell_type": "markdown",
   "metadata": {},
   "source": [
    "# Test bench for load balancing"
   ]
  },
  {
   "cell_type": "code",
   "execution_count": 9,
   "metadata": {},
   "outputs": [],
   "source": [
    "import matplotlib.pyplot as plt\n",
    "import numpy as np\n",
    "import random\n",
    "\n",
    "def test_load_balancing():\n",
    "    load_values = [10, 50, 100, 150, 200, 250, 300, 350, 400, 450, 500]\n",
    "    rip_variances = []\n",
    "    ospf_variances = []\n",
    "\n",
    "    for load in load_values:\n",
    "        print(f\"Testing load balancing for load = {load}...\")\n",
    "        rip_traffic = {edge: 0 for edge in G.edges()}\n",
    "        ospf_traffic = {edge: 0 for edge in G.edges()}\n",
    "        # Add reverse edges\n",
    "        for u, v in G.edges():\n",
    "            rip_traffic[(v, u)] = 0\n",
    "            ospf_traffic[(v, u)] = 0\n",
    "\n",
    "        for _ in range(load):\n",
    "            source, target = random.sample(list(G.nodes()), 2)\n",
    "            rip_path = rip(G, source, target)\n",
    "            for i in range(len(rip_path) - 1):\n",
    "                u, v = rip_path[i], rip_path[i+1]\n",
    "                rip_traffic[(u, v)] += 1\n",
    "                rip_traffic[(v, u)] += 1\n",
    "\n",
    "            ospf_path = ospf(G, source, target)\n",
    "            for i in range(len(ospf_path) - 1):\n",
    "                u, v = ospf_path[i], ospf_path[i+1]\n",
    "                ospf_traffic[(u, v)] += 1\n",
    "                ospf_traffic[(v, u)] += 1\n",
    "\n",
    "\n",
    "        rip_variances.append(np.var(list(rip_traffic.values())))\n",
    "        ospf_variances.append(np.var(list(ospf_traffic.values())))\n",
    "\n",
    "        print(\"RIP variance:\", rip_variances[-1])\n",
    "        print(\"OSPF variance:\", ospf_variances[-1])\n",
    "\n",
    "    plt.plot(load_values, rip_variances, label='RIP')\n",
    "    plt.plot(load_values, ospf_variances, label='OSPF')\n",
    "    plt.xlabel('Load')\n",
    "    plt.ylabel('Variance')\n",
    "    plt.legend()\n",
    "    plt.show()"
   ]
  },
  {
   "cell_type": "code",
   "execution_count": 10,
   "metadata": {},
   "outputs": [
    {
     "name": "stdout",
     "output_type": "stream",
     "text": [
      "Testing load balancing for load = 10...\n",
      "RIP variance: 0.45\n",
      "OSPF variance: 1.4\n",
      "Testing load balancing for load = 50...\n",
      "RIP variance: 6.24\n",
      "OSPF variance: 30.809999999999995\n",
      "Testing load balancing for load = 100...\n",
      "RIP variance: 16.439999999999998\n",
      "OSPF variance: 88.84\n",
      "Testing load balancing for load = 150...\n",
      "RIP variance: 55.040000000000006\n",
      "OSPF variance: 276.68999999999994\n",
      "Testing load balancing for load = 200...\n",
      "RIP variance: 56.29\n",
      "OSPF variance: 382.2\n",
      "Testing load balancing for load = 250...\n",
      "RIP variance: 115.6\n",
      "OSPF variance: 538.2\n",
      "Testing load balancing for load = 300...\n",
      "RIP variance: 211.81\n",
      "OSPF variance: 922.9599999999998\n",
      "Testing load balancing for load = 350...\n",
      "RIP variance: 323.2099999999999\n",
      "OSPF variance: 1341.29\n",
      "Testing load balancing for load = 400...\n",
      "RIP variance: 241.89000000000004\n",
      "OSPF variance: 1473.8\n",
      "Testing load balancing for load = 450...\n",
      "RIP variance: 327.8\n",
      "OSPF variance: 1652.8\n",
      "Testing load balancing for load = 500...\n",
      "RIP variance: 432.00999999999993\n",
      "OSPF variance: 2081.44\n"
     ]
    },
    {
     "data": {
      "image/png": "[encoded data removed]",
      "text/plain": [
       "<Figure size 432x288 with 1 Axes>"
      ]
     },
     "metadata": {
      "needs_background": "light"
     },
     "output_type": "display_data"
    }
   ],
   "source": [
    "test_load_balancing()"
   ]
  },
  {
   "cell_type": "markdown",
   "metadata": {},
   "source": [
    "# Test bench for resilience to network changes"
   ]
  },
  {
   "cell_type": "code",
   "execution_count": 11,
   "metadata": {},
   "outputs": [],
   "source": [
    "import numpy as np\n",
    "import matplotlib.pyplot as plt\n",
    "\n",
    "def test_resilience():\n",
    "    if len(G.edges()) == 0:\n",
    "        print(\"The graph has no edges.\")\n",
    "        return\n",
    "\n",
    "    rip_changes_list = []\n",
    "    ospf_changes_list = []\n",
    "\n",
    "    for _ in range(10):\n",
    "        rip_paths = {}\n",
    "        ospf_paths = {}\n",
    "\n",
    "        for source in G.nodes():\n",
    "            for target in G.nodes():\n",
    "                if source != target:\n",
    "                    rip_paths[(source, target)] = rip(G, source, target)\n",
    "                    ospf_paths[(source, target)] = ospf(G, source, target)\n",
    "\n",
    "        failed_link = random.sample(list(G.edges()), 1)[0]\n",
    "        G.remove_edge(*failed_link)\n",
    "\n",
    "        rip_changes = 0\n",
    "        ospf_changes = 0\n",
    "\n",
    "        for source, target in rip_paths:\n",
    "            new_rip_path = rip(G, source, target)\n",
    "            if new_rip_path != rip_paths[(source, target)]:\n",
    "                rip_changes += 1\n",
    "\n",
    "        for source, target in ospf_paths:\n",
    "            new_ospf_path = ospf(G, source, target)\n",
    "            if new_ospf_path != ospf_paths[(source, target)]:\n",
    "                ospf_changes += 1\n",
    "\n",
    "\n",
    "        rip_changes_list.append(rip_changes)\n",
    "        ospf_changes_list.append(ospf_changes)\n",
    "\n",
    "    protocols = ['RIP', 'OSPF']\n",
    "    means = [np.mean(rip_changes_list), np.mean(ospf_changes_list)]\n",
    "    variances = [np.var(rip_changes_list), np.var(ospf_changes_list)]\n",
    "\n",
    "    x = np.arange(len(protocols))\n",
    "    width = 0.35\n",
    "\n",
    "    fig, ax = plt.subplots()\n",
    "    rects1 = ax.bar(x - width/2, means, width, label='Mean')\n",
    "    rects2 = ax.bar(x + width/2, variances, width, label='Variance')\n",
    "\n",
    "    ax.set_ylabel('Values')\n",
    "    ax.set_title('Mean and Variance of Path Changes')\n",
    "    ax.set_xticks(x)\n",
    "    ax.set_xticklabels(protocols)\n",
    "    ax.legend()\n",
    "    # Set the limits of the y-axis\n",
    "    ax.set_ylim([0, max(max(means), max(variances)) * 1.1])\n",
    "    fig.tight_layout()\n",
    "    plt.show()"
   ]
  },
  {
   "cell_type": "code",
   "execution_count": 12,
   "metadata": {},
   "outputs": [
    {
     "data": {
      "image/png": "[encoded data removed]",
      "text/plain": [
       "<Figure size 432x288 with 1 Axes>"
      ]
     },
     "metadata": {
      "needs_background": "light"
     },
     "output_type": "display_data"
    }
   ],
   "source": [
    "test_resilience()"
   ]
  }
 ],
 "metadata": {
  "kernelspec": {
   "display_name": "Python 3",
   "language": "python",
   "name": "python3"
  },
  "language_info": {
   "codemirror_mode": {
    "name": "ipython",
    "version": 3
   },
   "file_extension": ".py",
   "mimetype": "text/x-python",
   "name": "python",
   "nbconvert_exporter": "python",
   "pygments_lexer": "ipython3",
   "version": "3.10.4"
  }
 },
 "nbformat": 4,
 "nbformat_minor": 2
}
